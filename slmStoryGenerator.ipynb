{
 "cells": [
  {
   "cell_type": "code",
   "execution_count": null,
   "id": "bf531932",
   "metadata": {
    "vscode": {
     "languageId": "plaintext"
    }
   },
   "outputs": [],
   "source": [
    "!pip install datasets"
   ]
  },
  {
   "cell_type": "markdown",
   "id": "60fefe35",
   "metadata": {},
   "source": [
    "Using Roneneldan dataset with 2M rows"
   ]
  },
  {
   "cell_type": "code",
   "execution_count": null,
   "id": "7cc6720e",
   "metadata": {
    "vscode": {
     "languageId": "plaintext"
    }
   },
   "outputs": [],
   "source": [
    "from datasets import load_dataset\n",
    "\n",
    "ds = load_dataset(\"roneneldan/TinyStories\")"
   ]
  }
 ],
 "metadata": {
  "language_info": {
   "name": "python"
  }
 },
 "nbformat": 4,
 "nbformat_minor": 5
}
