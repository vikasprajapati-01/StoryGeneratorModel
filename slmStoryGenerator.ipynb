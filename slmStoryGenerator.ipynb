{
 "cells": [
  {
   "cell_type": "code",
   "execution_count": null,
   "id": "bf531932",
   "metadata": {
    "vscode": {
     "languageId": "plaintext"
    }
   },
   "outputs": [],
   "source": [
    "!pip install datasets"
   ]
  },
  {
   "cell_type": "markdown",
   "id": "60fefe35",
   "metadata": {},
   "source": [
    "Using Roneneldan dataset with 2M rows"
   ]
  },
  {
   "cell_type": "code",
   "execution_count": null,
   "id": "7cc6720e",
   "metadata": {
    "vscode": {
     "languageId": "plaintext"
    }
   },
   "outputs": [],
   "source": [
    "from datasets import load_dataset\n",
    "\n",
    "ds = load_dataset(\"roneneldan/TinyStories\")"
   ]
  },
  {
   "cell_type": "markdown",
   "id": "0c513f5b",
   "metadata": {},
   "source": [
    "Using GPT2 tokenizer from tiktoken to create token IDs"
   ]
  },
  {
   "cell_type": "code",
   "execution_count": null,
   "id": "209731a7",
   "metadata": {
    "vscode": {
     "languageId": "plaintext"
    }
   },
   "outputs": [],
   "source": [
    "!pip install tiktoken  #tiktoken installation\n",
    "import tiktoken\n",
    "import os\n",
    "import numpy as np\n",
    "from tqdm.auto import tqdm\n",
    "\n",
    "enc = tiktoken.get_encoding(\"gpt2\")    # GPT2 tokenizer\n",
    "\n",
    "def tokenizeID(sampleTextObj):\n",
    "    ids = enc.encode_ordinary(sampleTextObj['text']) # encode_ordinary ignore special tokens if any\n",
    "    out = {'ids': ids, 'len': len(ids)}\n",
    "    return out\n",
    "\n",
    "if not os.path.exists(\"train.bin\"):\n",
    "    tokenized = ds.map(\n",
    "        tokenizeID,\n",
    "        remove_columns=['text'],\n",
    "        desc=\"tokenizing each split\",\n",
    "        num_proc=8,\n",
    "        )\n",
    "    # concatinating the ids of each dataset in single file\n",
    "    for split, dataset in tokenized.items():\n",
    "        arr_len = np.sum(dataset['len'], dtype=np.uint64)\n",
    "        filename = f'{split}.bin'\n",
    "        dtype = np.uint16 # can do since enc.max_token_value == 50256 is < 2**16\n",
    "        arr = np.memmap(filename, dtype=dtype, mode='w+', shape=(arr_len,))\n",
    "        total_batches = 1024\n",
    "\n",
    "        idx = 0\n",
    "        for batch_idx in tqdm(range(total_batches), desc=f'writing {filename}'):\n",
    "            # Batching the sampling together\n",
    "            batch = dataset.shard(num_shards=total_batches, index=batch_idx, contiguous=True).with_format('numpy')\n",
    "            arr_batch = np.concatenate(batch['ids'])\n",
    "            # Write into mmap\n",
    "            arr[idx : idx + len(arr_batch)] = arr_batch\n",
    "            idx += len(arr_batch)\n",
    "        arr.flush()"
   ]
  }
 ],
 "metadata": {
  "language_info": {
   "name": "python"
  }
 },
 "nbformat": 4,
 "nbformat_minor": 5
}
