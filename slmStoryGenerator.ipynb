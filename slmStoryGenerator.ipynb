{
 "cells": [
  {
   "cell_type": "code",
   "execution_count": null,
   "id": "bf531932",
   "metadata": {
    "vscode": {
     "languageId": "plaintext"
    }
   },
   "outputs": [],
   "source": [
    "!pip install datasets"
   ]
  },
  {
   "cell_type": "markdown",
   "id": "60fefe35",
   "metadata": {},
   "source": [
    "Using Roneneldan dataset with 2M rows"
   ]
  },
  {
   "cell_type": "code",
   "execution_count": null,
   "id": "7cc6720e",
   "metadata": {
    "vscode": {
     "languageId": "plaintext"
    }
   },
   "outputs": [],
   "source": [
    "from datasets import load_dataset\n",
    "\n",
    "ds = load_dataset(\"roneneldan/TinyStories\")"
   ]
  },
  {
   "cell_type": "markdown",
   "id": "0c513f5b",
   "metadata": {},
   "source": [
    "Using GPT2 tokenizer using tiktoken repo (using byte-pair encodeing)"
   ]
  },
  {
   "cell_type": "code",
   "execution_count": null,
   "id": "209731a7",
   "metadata": {
    "vscode": {
     "languageId": "plaintext"
    }
   },
   "outputs": [],
   "source": [
    "!pip install tiktoken  #tiktoken installation\n",
    "import tiktoken\n",
    "import os\n",
    "import numpy as np\n",
    "from tqdm.auto import tqdm\n",
    "\n",
    "enc = tiktoken.get_encoding(\"gpt2\")    # GPT2 tokenizer\n",
    "\n",
    "def tokenizeID(sampleTextObj):\n",
    "    ids = enc.encode_ordinary(sampleTextObj['text']) # encode_ordinary ignores special tokens if any\n",
    "    out = {'ids': ids, 'len': len(ids)}\n",
    "    return out\n",
    "\n",
    "if not os.path.exists(\"train.bin\"):\n",
    "    tokenized = ds.map(\n",
    "        tokenizeID,\n",
    "        remove_columns=['text'],\n",
    "        desc=\"tokenizing each split\",\n",
    "        num_proc=8,\n",
    "        )\n",
    "    # concatinating the ids of each dataset in single file\n",
    "    for split, dataset in tokenized.items():\n",
    "        arr_len = np.sum(dataset['len'], dtype=np.uint64)\n",
    "        filename = f'{split}.bin'   # Here we will have 2 file train.bin and validation.bin\n",
    "        dtype = np.uint16 # can do since enc.max_token_value == 50256 and is less than 2**16\n",
    "        arr = np.memmap(filename, dtype=dtype, mode='w+', shape=(arr_len,))\n",
    "        total_batches = 1024\n",
    "\n",
    "        idx = 0\n",
    "        for batch_idx in tqdm(range(total_batches), desc=f'writing {filename}'):\n",
    "            # Batching the sampling together\n",
    "            batch = dataset.shard(num_shards=total_batches, index=batch_idx, contiguous=True).with_format('numpy')\n",
    "            arr_batch = np.concatenate(batch['ids'])\n",
    "            # Write into mmap\n",
    "            arr[idx : idx + len(arr_batch)] = arr_batch\n",
    "            idx += len(arr_batch)\n",
    "        arr.flush()"
   ]
  },
  {
   "cell_type": "markdown",
   "id": "e24d3675",
   "metadata": {},
   "source": [
    "Creating input-output pairs for the dataset (as data is not specified into input and output section)"
   ]
  },
  {
   "cell_type": "code",
   "execution_count": null,
   "id": "48f55354",
   "metadata": {
    "vscode": {
     "languageId": "plaintext"
    }
   },
   "outputs": [],
   "source": [
    "def get_batch(split):\n",
    "    # Create np.memmap for every batch to avoid memory leak, as per\n",
    "    # https://stackoverflow.com/questions/45132940/numpy-memmap-memory-usage-want-to-iterate-once/61472122#61472122\n",
    "    if split == 'train':\n",
    "        data = np.memmap('train.bin', dtype=np.uint16, mode='r')\n",
    "    else:\n",
    "        data = np.memmap('validation.bin', dtype=np.uint16, mode='r')\n",
    "\n",
    "    ix = torch.randint(len(data) - block_size, (batch_size,))  # Selecting random sentences (batch)\n",
    "    x = torch.stack([torch.from_numpy((data[i:i+block_size]).astype(np.int64)) for i in ix])  # Input matrix\n",
    "    y = torch.stack([torch.from_numpy((data[i+1:i+1+block_size]).astype(np.int64)) for i in ix])  # Output matrix for the current input matrix\n",
    "    if device_type == 'cuda':\n",
    "        # pin array x,y this allows to move them to GPU asynchronously (non_blocking=True)\n",
    "        x, y = x.pin_memory().to(device, non_blocking=True), y.pin_memory().to(device, non_blocking=True)  # The CPU is not being blocked\n",
    "    else:\n",
    "        x, y = x.to(device), y.to(device)\n",
    "    return x, y   # Return the input and output matrix\n"
   ]
  },
  {
   "cell_type": "markdown",
   "id": "422bde18",
   "metadata": {},
   "source": [
    "Building the Model"
   ]
  }
 ],
 "metadata": {
  "language_info": {
   "name": "python"
  }
 },
 "nbformat": 4,
 "nbformat_minor": 5
}
